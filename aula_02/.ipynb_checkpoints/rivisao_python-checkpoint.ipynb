{
 "cells": [
  {
   "cell_type": "markdown",
   "id": "3d8dc734-f2b9-454c-9808-379c1e92676a",
   "metadata": {},
   "source": [
    "# Revisao Python"
   ]
  },
  {
   "cell_type": "code",
   "execution_count": 1,
   "id": "01f8cee8-74e0-40d4-b593-5c11546ab785",
   "metadata": {},
   "outputs": [
    {
     "name": "stdout",
     "output_type": "stream",
     "text": [
      "Hello Wolrd\n"
     ]
    }
   ],
   "source": [
    "print ('Hello Wolrd')"
   ]
  },
  {
   "cell_type": "code",
   "execution_count": null,
   "id": "9b97c24d-98e9-4e1b-aec3-77776fdecd31",
   "metadata": {},
   "outputs": [],
   "source": [
    "nome = 'Isaculo'\n",
    "eh_professor = True # false\n",
    "nota = 10\n",
    "dinheiro_na_conta = 20.00 # números quebrados, decimais, ponto flutuantes"
   ]
  },
  {
   "cell_type": "code",
   "execution_count": 3,
   "id": "38eb4220-7ce6-4ef9-85cf-d0e809a5e192",
   "metadata": {},
   "outputs": [],
   "source": [
    "if 10 < 3:\n",
    "    print ('Maior que 3')\n",
    "else:\n",
    "    print ('Menor que 3')"
   ]
  },
  {
   "cell_type": "code",
   "execution_count": 6,
   "id": "5e515b26-75aa-4874-9d9b-184074557dec",
   "metadata": {},
   "outputs": [
    {
     "ename": "NameError",
     "evalue": "name 'lista_compras' is not defined",
     "output_type": "error",
     "traceback": [
      "\u001b[0;31m---------------------------------------------------------------------------\u001b[0m",
      "\u001b[0;31mNameError\u001b[0m                                 Traceback (most recent call last)",
      "Cell \u001b[0;32mIn[6], line 3\u001b[0m\n\u001b[1;32m      1\u001b[0m list_compras \u001b[38;5;241m=\u001b[39m [\u001b[38;5;124m'\u001b[39m\u001b[38;5;124mMaça\u001b[39m\u001b[38;5;124m'\u001b[39m,\u001b[38;5;124m'\u001b[39m\u001b[38;5;124mBanana\u001b[39m\u001b[38;5;124m'\u001b[39m]\n\u001b[0;32m----> 3\u001b[0m \u001b[38;5;28;01mfor\u001b[39;00m item \u001b[38;5;129;01min\u001b[39;00m \u001b[43mlista_compras\u001b[49m:\n\u001b[1;32m      4\u001b[0m     \u001b[38;5;28mprint\u001b[39m(item)\n",
      "\u001b[0;31mNameError\u001b[0m: name 'lista_compras' is not defined"
     ]
    }
   ],
   "source": [
    "list_compras = ['Maça','Banana']\n",
    "\n",
    "for item in lista_compras:\n",
    "    print(item)"
   ]
  },
  {
   "cell_type": "code",
   "execution_count": null,
   "id": "e3409211-1e43-48c2-a1f1-daca28a9b130",
   "metadata": {},
   "outputs": [],
   "source": []
  }
 ],
 "metadata": {
  "kernelspec": {
   "display_name": "Python 3 (ipykernel)",
   "language": "python",
   "name": "python3"
  },
  "language_info": {
   "codemirror_mode": {
    "name": "ipython",
    "version": 3
   },
   "file_extension": ".py",
   "mimetype": "text/x-python",
   "name": "python",
   "nbconvert_exporter": "python",
   "pygments_lexer": "ipython3",
   "version": "3.12.4"
  }
 },
 "nbformat": 4,
 "nbformat_minor": 5
}
